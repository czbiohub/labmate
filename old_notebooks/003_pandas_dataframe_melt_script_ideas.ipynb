{
 "cells": [
  {
   "cell_type": "markdown",
   "metadata": {},
   "source": [
    "## Import pandas so we can use this library "
   ]
  },
  {
   "cell_type": "code",
   "execution_count": 1,
   "metadata": {
    "collapsed": true
   },
   "outputs": [],
   "source": [
    "import pandas as pd "
   ]
  },
  {
   "cell_type": "markdown",
   "metadata": {},
   "source": [
    "### Import Metadata Values for 96W Plates \n",
    "values corresponding to wellID. Import with no index collumn set so that we can use the A-H collumn later for restructing the dataset.\n",
    "\n",
    "### Code we want here\n",
    "1) from a folder with xls file for each condition make a csv from each file and save it in a new folder with only the cvs files. Varibale={name)=name of cvs. \n",
    "2)read in each csv file. Save it in a varibale which is {csv_name)_96w.\n",
    "3) Possibly need to store this in a list or folder of some sorts so it can be iterated over when doing pd.melt. \n"
   ]
  },
  {
   "cell_type": "markdown",
   "metadata": {},
   "source": [
    "Import values for buffer conditions "
   ]
  },
  {
   "cell_type": "code",
   "execution_count": 8,
   "metadata": {
    "scrolled": true
   },
   "outputs": [
    {
     "name": "stdout",
     "output_type": "stream",
     "text": [
      "  Unnamed: 0          1          2          3          4          5  \\\n",
      "0          A  Buffer_P1  Buffer_P1  Buffer_P1  Buffer_P1  Buffer_P2   \n",
      "1          B  Buffer_P1  Buffer_P1  Buffer_P1  Buffer_P1  Buffer_P2   \n",
      "2          C  Buffer_P1  Buffer_P1  Buffer_P1  Buffer_P1  Buffer_P2   \n",
      "3          D  Buffer_P1  Buffer_P1  Buffer_P1  Buffer_P1  Buffer_P2   \n",
      "4          E  Buffer_P1  Buffer_P1  Buffer_P1  Buffer_P1  Buffer_P2   \n",
      "\n",
      "           6          7          8          9         10         11         12  \n",
      "0  Buffer_P2  Buffer_P2  Buffer_P2  Buffer_P3  Buffer_P3  Buffer_P3  Buffer_P3  \n",
      "1  Buffer_P2  Buffer_P2  Buffer_P2  Buffer_P3  Buffer_P3  Buffer_P3  Buffer_P3  \n",
      "2  Buffer_P2  Buffer_P2  Buffer_P2  Buffer_P3  Buffer_P3  Buffer_P3  Buffer_P3  \n",
      "3  Buffer_P2  Buffer_P2  Buffer_P2  Buffer_P3  Buffer_P3  Buffer_P3  Buffer_P3  \n",
      "4  Buffer_P2  Buffer_P2  Buffer_P2  Buffer_P3  Buffer_P3  Buffer_P3  Buffer_P3  \n",
      "(8, 13)\n"
     ]
    }
   ],
   "source": [
    "lonza_nucleofection_buffer_96w= pd.read_csv('lonza_nucleofection_buffer.csv') # read in csv \n",
    "print(lonza_nucleofection_buffer_96w.head())\n",
    "print(lonza_nucleofection_buffer_96w.shape)"
   ]
  },
  {
   "cell_type": "markdown",
   "metadata": {},
   "source": [
    "import values for experimental or control designation \n"
   ]
  },
  {
   "cell_type": "code",
   "execution_count": 9,
   "metadata": {
    "scrolled": true
   },
   "outputs": [
    {
     "name": "stdout",
     "output_type": "stream",
     "text": [
      "  Unnamed: 0    1    2    3    4    5    6    7    8    9   10   11   12\n",
      "0          A  exp  exp  exp  exp  exp  exp  exp  exp  exp  exp  exp  exp\n",
      "1          B  exp  exp  exp  exp  exp  exp  exp  exp  exp  exp  exp  exp\n",
      "2          C  exp  exp  exp  exp  exp  exp  exp  exp  exp  exp  exp  exp\n",
      "3          D  exp  exp  exp  exp  exp  exp  exp  exp  exp  exp  exp  exp\n",
      "4          E  exp  exp  exp  exp  exp  exp  exp  exp  exp  exp  exp  exp\n",
      "(8, 13)\n"
     ]
    }
   ],
   "source": [
    "experimental_or_control_well= pd.read_csv('experimental_or_control.csv') # read in csv \n",
    "print(experimental_or_control_well.head())\n",
    "print(experimental_or_control_well.shape)"
   ]
  },
  {
   "cell_type": "markdown",
   "metadata": {},
   "source": [
    "### Change column names \n",
    "change unnamed: 0 to test_plate_96w_row_name (plate csv name _ row_names) so that we know that these indexes correspond to this plate. Do so by passing the name of the collumn to be renamed into a dictonary where you give the value of the name to be changed and the desired new name. "
   ]
  },
  {
   "cell_type": "markdown",
   "metadata": {},
   "source": [
    "### change name of experimental or control well "
   ]
  },
  {
   "cell_type": "code",
   "execution_count": 23,
   "metadata": {},
   "outputs": [
    {
     "name": "stdout",
     "output_type": "stream",
     "text": [
      "(8, 13)\n",
      "  96_well_row_letter    1    2    3    4    5    6    7    8    9   10   11  \\\n",
      "0                  A  exp  exp  exp  exp  exp  exp  exp  exp  exp  exp  exp   \n",
      "1                  B  exp  exp  exp  exp  exp  exp  exp  exp  exp  exp  exp   \n",
      "2                  C  exp  exp  exp  exp  exp  exp  exp  exp  exp  exp  exp   \n",
      "3                  D  exp  exp  exp  exp  exp  exp  exp  exp  exp  exp  exp   \n",
      "4                  E  exp  exp  exp  exp  exp  exp  exp  exp  exp  exp  exp   \n",
      "\n",
      "    12  \n",
      "0  exp  \n",
      "1  exp  \n",
      "2  exp  \n",
      "3  exp  \n",
      "4  exp  \n"
     ]
    }
   ],
   "source": [
    "experimental_or_control_well_renamed=experimental_or_control_well.rename(columns={\"Unnamed: 0\":\"96_well_row_letter\"})\n",
    "print(experimental_or_control_well_renamed.shape)\n",
    "print(experimental_or_control_well_renamed.head())"
   ]
  },
  {
   "cell_type": "markdown",
   "metadata": {},
   "source": [
    "### change name for loza nucleofection buffer"
   ]
  },
  {
   "cell_type": "code",
   "execution_count": 31,
   "metadata": {},
   "outputs": [
    {
     "name": "stdout",
     "output_type": "stream",
     "text": [
      "(8, 13)\n",
      "  96_well_row_letter          1          2          3          4          5  \\\n",
      "0                  A  Buffer_P1  Buffer_P1  Buffer_P1  Buffer_P1  Buffer_P2   \n",
      "1                  B  Buffer_P1  Buffer_P1  Buffer_P1  Buffer_P1  Buffer_P2   \n",
      "2                  C  Buffer_P1  Buffer_P1  Buffer_P1  Buffer_P1  Buffer_P2   \n",
      "3                  D  Buffer_P1  Buffer_P1  Buffer_P1  Buffer_P1  Buffer_P2   \n",
      "4                  E  Buffer_P1  Buffer_P1  Buffer_P1  Buffer_P1  Buffer_P2   \n",
      "\n",
      "           6          7          8          9         10         11         12  \n",
      "0  Buffer_P2  Buffer_P2  Buffer_P2  Buffer_P3  Buffer_P3  Buffer_P3  Buffer_P3  \n",
      "1  Buffer_P2  Buffer_P2  Buffer_P2  Buffer_P3  Buffer_P3  Buffer_P3  Buffer_P3  \n",
      "2  Buffer_P2  Buffer_P2  Buffer_P2  Buffer_P3  Buffer_P3  Buffer_P3  Buffer_P3  \n",
      "3  Buffer_P2  Buffer_P2  Buffer_P2  Buffer_P3  Buffer_P3  Buffer_P3  Buffer_P3  \n",
      "4  Buffer_P2  Buffer_P2  Buffer_P2  Buffer_P3  Buffer_P3  Buffer_P3  Buffer_P3  \n"
     ]
    }
   ],
   "source": [
    "lonza_nucleofection_buffer_96w_renamed=lonza_nucleofection_buffer_96w.rename(columns={\"Unnamed: 0\":\"96_well_row_letter\"})\n",
    "print(lonza_nucleofection_buffer_96w_renamed.shape)\n",
    "print(lonza_nucleofection_buffer_96w_renamed.head())"
   ]
  },
  {
   "cell_type": "code",
   "execution_count": null,
   "metadata": {
    "collapsed": true
   },
   "outputs": [],
   "source": [
    "## May not need to change column names since when I merge on them the name is not retained. "
   ]
  },
  {
   "cell_type": "markdown",
   "metadata": {},
   "source": [
    "### Restructure the dataset based on the row labels of a 96 well plate. \n",
    "For the pd.melt function we take id_vars which is the variable for which we want get the values corresponding to other variables in the table. In this case, we want the values for all other variables, which are all other collumns, because we did not specify a specific subset of variables. If we wanted to specify this subset we could use value_vars and pass in a list of the other collumns (variables) that we want to see the values for relative to column 0. For example, if we only selected collumn 1, we would see the values at each position in the id_vars collumn from the corresponding index position in column 1. We can name these columns for clarity. \n",
    "\n",
    "### Print out information about new data frame\n",
    "• `.shape` to get the dimensions of the dataframe. Here we have 96 rows and 3 collumns. This is because we are getting values from every collumn in the plate (12) for each of the 8 row labels (A-H) in collumn unnamed: 0. \n",
    "\n",
    "• `.head()` to view the first entries in the dataframe. This requires parenthasis in calling the attribute as .head is a function that can take in arguments and is not intrinsic to the data frame, in that you canspecify how many rows you want to see. \n",
    "\n",
    "• `.index or .index.values` to get the index range (0-96) which means it godes from 0 up to 95 not including 95 in steps of 1. or .index.values to get the actual values of the index, a list from 0-95. \n",
    "\n",
    "• `.columns` to get the collumn names. \n",
    "\n",
    "• `type()` with the dataframe as the argument to get the type of the object. In this case we check that the object is still a dataframe. This is important because there are certain ways of selecting from a dataframe where the sliced object, if only one column can become a series not a dataframe."
   ]
  },
  {
   "cell_type": "markdown",
   "metadata": {},
   "source": [
    "## Code needed here\n",
    "1) make new veriable that is {csv_name_96w}_tidy.\n",
    "2) for this new variable perform pd.melt on {csv_name_96w} and set ID vars=\"96_well_row_letter\" and var_name=\"column_num\" and value_name=\"{csv_name_96w}_well_value). This should be done for every variable {csv_name_96w}.\n",
    "3) Figure out how to merge multiple tidy formated dataframes at once. Maybe this is a matter of merging two, saving as a new output, and continuting to add onto the newly saved one, almost like ading to a list....?"
   ]
  },
  {
   "cell_type": "markdown",
   "metadata": {},
   "source": [
    "### tidy format of nucleofection buffer "
   ]
  },
  {
   "cell_type": "code",
   "execution_count": 32,
   "metadata": {},
   "outputs": [
    {
     "name": "stdout",
     "output_type": "stream",
     "text": [
      "(96, 3)\n",
      "  96_well_row_letter column_num lonza_nucleofection_buffer_well_value\n",
      "0                  A          1                             Buffer_P1\n",
      "1                  B          1                             Buffer_P1\n",
      "2                  C          1                             Buffer_P1\n",
      "3                  D          1                             Buffer_P1\n",
      "4                  E          1                             Buffer_P1\n"
     ]
    }
   ],
   "source": [
    "lonza_nucleofection_buffer_96w_renamed_tidy = pd.melt(lonza_nucleofection_buffer_96w_renamed, \n",
    "                            id_vars= \"96_well_row_letter\", \n",
    "                            var_name=\"column_num\",\n",
    "                            value_name=\"lonza_nucleofection_buffer_well_value\") #restructure data\n",
    "print(lonza_nucleofection_buffer_96w_renamed_tidy.shape)\n",
    "print(lonza_nucleofection_buffer_96w_renamed_tidy.head())\n",
    "\n"
   ]
  },
  {
   "cell_type": "markdown",
   "metadata": {},
   "source": [
    "### tidy format for experimental condition plate"
   ]
  },
  {
   "cell_type": "code",
   "execution_count": 36,
   "metadata": {},
   "outputs": [
    {
     "name": "stdout",
     "output_type": "stream",
     "text": [
      "(96, 3)\n",
      "  96_well_row_letter column_num experimental_or_control_well_well_value\n",
      "0                  A          1                                     exp\n",
      "1                  B          1                                     exp\n",
      "2                  C          1                                     exp\n",
      "3                  D          1                                     exp\n",
      "4                  E          1                                     exp\n"
     ]
    }
   ],
   "source": [
    "experimental_or_control_well_renamed_tidy = pd.melt(experimental_or_control_well_renamed, \n",
    "                            id_vars= \"96_well_row_letter\", \n",
    "                            var_name=\"column_num\",\n",
    "                            value_name=\"experimental_or_control_well_well_value\") #restructure data\n",
    "print(experimental_or_control_well_renamed_tidy.shape)\n",
    "print(experimental_or_control_well_renamed_tidy.head())\n"
   ]
  },
  {
   "cell_type": "markdown",
   "metadata": {
    "collapsed": true
   },
   "source": [
    "## Merge tidy data frames \n",
    "notice that inner, outer, right and left did the same thing why?"
   ]
  },
  {
   "cell_type": "code",
   "execution_count": 45,
   "metadata": {},
   "outputs": [
    {
     "name": "stdout",
     "output_type": "stream",
     "text": [
      "(96, 4)\n",
      "  Unnamed: 0 column_num lonza_nucleofection_buffer_well_value  \\\n",
      "0          A          1                             Buffer_P1   \n",
      "1          B          1                             Buffer_P1   \n",
      "2          C          1                             Buffer_P1   \n",
      "3          D          1                             Buffer_P1   \n",
      "4          E          1                             Buffer_P1   \n",
      "\n",
      "  experimental_or_control_well_well_value  \n",
      "0                                     exp  \n",
      "1                                     exp  \n",
      "2                                     exp  \n",
      "3                                     exp  \n",
      "4                                     exp  \n"
     ]
    }
   ],
   "source": [
    "merged_data=lonza_nucleofection_buffer_96w_tidy.merge(experimental_or_control_well_tidy, how=\"inner\")\n",
    "print(merged_data.shape)\n",
    "print(merged_data.head())"
   ]
  },
  {
   "cell_type": "code",
   "execution_count": 48,
   "metadata": {},
   "outputs": [
    {
     "name": "stdout",
     "output_type": "stream",
     "text": [
      "(96, 4)\n",
      "  96_well_row_letter column_num lonza_nucleofection_buffer_well_value  \\\n",
      "0                  A          1                             Buffer_P1   \n",
      "1                  B          1                             Buffer_P1   \n",
      "2                  C          1                             Buffer_P1   \n",
      "3                  D          1                             Buffer_P1   \n",
      "4                  E          1                             Buffer_P1   \n",
      "\n",
      "  experimental_or_control_well_well_value  \n",
      "0                                     exp  \n",
      "1                                     exp  \n",
      "2                                     exp  \n",
      "3                                     exp  \n",
      "4                                     exp  \n"
     ]
    },
    {
     "data": {
      "text/html": [
       "<div>\n",
       "<style>\n",
       "    .dataframe thead tr:only-child th {\n",
       "        text-align: right;\n",
       "    }\n",
       "\n",
       "    .dataframe thead th {\n",
       "        text-align: left;\n",
       "    }\n",
       "\n",
       "    .dataframe tbody tr th {\n",
       "        vertical-align: top;\n",
       "    }\n",
       "</style>\n",
       "<table border=\"1\" class=\"dataframe\">\n",
       "  <thead>\n",
       "    <tr style=\"text-align: right;\">\n",
       "      <th></th>\n",
       "      <th>96_well_row_letter</th>\n",
       "      <th>column_num</th>\n",
       "      <th>lonza_nucleofection_buffer_well_value</th>\n",
       "      <th>experimental_or_control_well_well_value</th>\n",
       "    </tr>\n",
       "  </thead>\n",
       "  <tbody>\n",
       "    <tr>\n",
       "      <th>0</th>\n",
       "      <td>A</td>\n",
       "      <td>1</td>\n",
       "      <td>Buffer_P1</td>\n",
       "      <td>exp</td>\n",
       "    </tr>\n",
       "    <tr>\n",
       "      <th>1</th>\n",
       "      <td>B</td>\n",
       "      <td>1</td>\n",
       "      <td>Buffer_P1</td>\n",
       "      <td>exp</td>\n",
       "    </tr>\n",
       "    <tr>\n",
       "      <th>2</th>\n",
       "      <td>C</td>\n",
       "      <td>1</td>\n",
       "      <td>Buffer_P1</td>\n",
       "      <td>exp</td>\n",
       "    </tr>\n",
       "    <tr>\n",
       "      <th>3</th>\n",
       "      <td>D</td>\n",
       "      <td>1</td>\n",
       "      <td>Buffer_P1</td>\n",
       "      <td>exp</td>\n",
       "    </tr>\n",
       "    <tr>\n",
       "      <th>4</th>\n",
       "      <td>E</td>\n",
       "      <td>1</td>\n",
       "      <td>Buffer_P1</td>\n",
       "      <td>exp</td>\n",
       "    </tr>\n",
       "    <tr>\n",
       "      <th>5</th>\n",
       "      <td>F</td>\n",
       "      <td>1</td>\n",
       "      <td>Buffer_P1</td>\n",
       "      <td>exp</td>\n",
       "    </tr>\n",
       "    <tr>\n",
       "      <th>6</th>\n",
       "      <td>G</td>\n",
       "      <td>1</td>\n",
       "      <td>Buffer_P1</td>\n",
       "      <td>exp</td>\n",
       "    </tr>\n",
       "    <tr>\n",
       "      <th>7</th>\n",
       "      <td>H</td>\n",
       "      <td>1</td>\n",
       "      <td>Buffer_P1</td>\n",
       "      <td>exp</td>\n",
       "    </tr>\n",
       "    <tr>\n",
       "      <th>8</th>\n",
       "      <td>A</td>\n",
       "      <td>2</td>\n",
       "      <td>Buffer_P1</td>\n",
       "      <td>exp</td>\n",
       "    </tr>\n",
       "    <tr>\n",
       "      <th>9</th>\n",
       "      <td>B</td>\n",
       "      <td>2</td>\n",
       "      <td>Buffer_P1</td>\n",
       "      <td>exp</td>\n",
       "    </tr>\n",
       "    <tr>\n",
       "      <th>10</th>\n",
       "      <td>C</td>\n",
       "      <td>2</td>\n",
       "      <td>Buffer_P1</td>\n",
       "      <td>exp</td>\n",
       "    </tr>\n",
       "    <tr>\n",
       "      <th>11</th>\n",
       "      <td>D</td>\n",
       "      <td>2</td>\n",
       "      <td>Buffer_P1</td>\n",
       "      <td>exp</td>\n",
       "    </tr>\n",
       "    <tr>\n",
       "      <th>12</th>\n",
       "      <td>E</td>\n",
       "      <td>2</td>\n",
       "      <td>Buffer_P1</td>\n",
       "      <td>exp</td>\n",
       "    </tr>\n",
       "    <tr>\n",
       "      <th>13</th>\n",
       "      <td>F</td>\n",
       "      <td>2</td>\n",
       "      <td>Buffer_P1</td>\n",
       "      <td>exp</td>\n",
       "    </tr>\n",
       "    <tr>\n",
       "      <th>14</th>\n",
       "      <td>G</td>\n",
       "      <td>2</td>\n",
       "      <td>Buffer_P1</td>\n",
       "      <td>exp</td>\n",
       "    </tr>\n",
       "    <tr>\n",
       "      <th>15</th>\n",
       "      <td>H</td>\n",
       "      <td>2</td>\n",
       "      <td>Buffer_P1</td>\n",
       "      <td>exp</td>\n",
       "    </tr>\n",
       "    <tr>\n",
       "      <th>16</th>\n",
       "      <td>A</td>\n",
       "      <td>3</td>\n",
       "      <td>Buffer_P1</td>\n",
       "      <td>exp</td>\n",
       "    </tr>\n",
       "    <tr>\n",
       "      <th>17</th>\n",
       "      <td>B</td>\n",
       "      <td>3</td>\n",
       "      <td>Buffer_P1</td>\n",
       "      <td>exp</td>\n",
       "    </tr>\n",
       "    <tr>\n",
       "      <th>18</th>\n",
       "      <td>C</td>\n",
       "      <td>3</td>\n",
       "      <td>Buffer_P1</td>\n",
       "      <td>exp</td>\n",
       "    </tr>\n",
       "    <tr>\n",
       "      <th>19</th>\n",
       "      <td>D</td>\n",
       "      <td>3</td>\n",
       "      <td>Buffer_P1</td>\n",
       "      <td>exp</td>\n",
       "    </tr>\n",
       "    <tr>\n",
       "      <th>20</th>\n",
       "      <td>E</td>\n",
       "      <td>3</td>\n",
       "      <td>Buffer_P1</td>\n",
       "      <td>exp</td>\n",
       "    </tr>\n",
       "    <tr>\n",
       "      <th>21</th>\n",
       "      <td>F</td>\n",
       "      <td>3</td>\n",
       "      <td>Buffer_P1</td>\n",
       "      <td>exp</td>\n",
       "    </tr>\n",
       "    <tr>\n",
       "      <th>22</th>\n",
       "      <td>G</td>\n",
       "      <td>3</td>\n",
       "      <td>Buffer_P1</td>\n",
       "      <td>exp</td>\n",
       "    </tr>\n",
       "    <tr>\n",
       "      <th>23</th>\n",
       "      <td>H</td>\n",
       "      <td>3</td>\n",
       "      <td>Buffer_P1</td>\n",
       "      <td>exp</td>\n",
       "    </tr>\n",
       "    <tr>\n",
       "      <th>24</th>\n",
       "      <td>A</td>\n",
       "      <td>4</td>\n",
       "      <td>Buffer_P1</td>\n",
       "      <td>exp</td>\n",
       "    </tr>\n",
       "    <tr>\n",
       "      <th>25</th>\n",
       "      <td>B</td>\n",
       "      <td>4</td>\n",
       "      <td>Buffer_P1</td>\n",
       "      <td>exp</td>\n",
       "    </tr>\n",
       "    <tr>\n",
       "      <th>26</th>\n",
       "      <td>C</td>\n",
       "      <td>4</td>\n",
       "      <td>Buffer_P1</td>\n",
       "      <td>exp</td>\n",
       "    </tr>\n",
       "    <tr>\n",
       "      <th>27</th>\n",
       "      <td>D</td>\n",
       "      <td>4</td>\n",
       "      <td>Buffer_P1</td>\n",
       "      <td>exp</td>\n",
       "    </tr>\n",
       "    <tr>\n",
       "      <th>28</th>\n",
       "      <td>E</td>\n",
       "      <td>4</td>\n",
       "      <td>Buffer_P1</td>\n",
       "      <td>exp</td>\n",
       "    </tr>\n",
       "    <tr>\n",
       "      <th>29</th>\n",
       "      <td>F</td>\n",
       "      <td>4</td>\n",
       "      <td>Buffer_P1</td>\n",
       "      <td>exp</td>\n",
       "    </tr>\n",
       "    <tr>\n",
       "      <th>...</th>\n",
       "      <td>...</td>\n",
       "      <td>...</td>\n",
       "      <td>...</td>\n",
       "      <td>...</td>\n",
       "    </tr>\n",
       "    <tr>\n",
       "      <th>66</th>\n",
       "      <td>C</td>\n",
       "      <td>9</td>\n",
       "      <td>Buffer_P3</td>\n",
       "      <td>exp</td>\n",
       "    </tr>\n",
       "    <tr>\n",
       "      <th>67</th>\n",
       "      <td>D</td>\n",
       "      <td>9</td>\n",
       "      <td>Buffer_P3</td>\n",
       "      <td>exp</td>\n",
       "    </tr>\n",
       "    <tr>\n",
       "      <th>68</th>\n",
       "      <td>E</td>\n",
       "      <td>9</td>\n",
       "      <td>Buffer_P3</td>\n",
       "      <td>exp</td>\n",
       "    </tr>\n",
       "    <tr>\n",
       "      <th>69</th>\n",
       "      <td>F</td>\n",
       "      <td>9</td>\n",
       "      <td>Buffer_P3</td>\n",
       "      <td>exp</td>\n",
       "    </tr>\n",
       "    <tr>\n",
       "      <th>70</th>\n",
       "      <td>G</td>\n",
       "      <td>9</td>\n",
       "      <td>Buffer_P3</td>\n",
       "      <td>exp</td>\n",
       "    </tr>\n",
       "    <tr>\n",
       "      <th>71</th>\n",
       "      <td>H</td>\n",
       "      <td>9</td>\n",
       "      <td>Buffer_P3</td>\n",
       "      <td>exp</td>\n",
       "    </tr>\n",
       "    <tr>\n",
       "      <th>72</th>\n",
       "      <td>A</td>\n",
       "      <td>10</td>\n",
       "      <td>Buffer_P3</td>\n",
       "      <td>exp</td>\n",
       "    </tr>\n",
       "    <tr>\n",
       "      <th>73</th>\n",
       "      <td>B</td>\n",
       "      <td>10</td>\n",
       "      <td>Buffer_P3</td>\n",
       "      <td>exp</td>\n",
       "    </tr>\n",
       "    <tr>\n",
       "      <th>74</th>\n",
       "      <td>C</td>\n",
       "      <td>10</td>\n",
       "      <td>Buffer_P3</td>\n",
       "      <td>exp</td>\n",
       "    </tr>\n",
       "    <tr>\n",
       "      <th>75</th>\n",
       "      <td>D</td>\n",
       "      <td>10</td>\n",
       "      <td>Buffer_P3</td>\n",
       "      <td>exp</td>\n",
       "    </tr>\n",
       "    <tr>\n",
       "      <th>76</th>\n",
       "      <td>E</td>\n",
       "      <td>10</td>\n",
       "      <td>Buffer_P3</td>\n",
       "      <td>exp</td>\n",
       "    </tr>\n",
       "    <tr>\n",
       "      <th>77</th>\n",
       "      <td>F</td>\n",
       "      <td>10</td>\n",
       "      <td>Buffer_P3</td>\n",
       "      <td>exp</td>\n",
       "    </tr>\n",
       "    <tr>\n",
       "      <th>78</th>\n",
       "      <td>G</td>\n",
       "      <td>10</td>\n",
       "      <td>Buffer_P3</td>\n",
       "      <td>exp</td>\n",
       "    </tr>\n",
       "    <tr>\n",
       "      <th>79</th>\n",
       "      <td>H</td>\n",
       "      <td>10</td>\n",
       "      <td>Buffer_P3</td>\n",
       "      <td>exp</td>\n",
       "    </tr>\n",
       "    <tr>\n",
       "      <th>80</th>\n",
       "      <td>A</td>\n",
       "      <td>11</td>\n",
       "      <td>Buffer_P3</td>\n",
       "      <td>exp</td>\n",
       "    </tr>\n",
       "    <tr>\n",
       "      <th>81</th>\n",
       "      <td>B</td>\n",
       "      <td>11</td>\n",
       "      <td>Buffer_P3</td>\n",
       "      <td>exp</td>\n",
       "    </tr>\n",
       "    <tr>\n",
       "      <th>82</th>\n",
       "      <td>C</td>\n",
       "      <td>11</td>\n",
       "      <td>Buffer_P3</td>\n",
       "      <td>exp</td>\n",
       "    </tr>\n",
       "    <tr>\n",
       "      <th>83</th>\n",
       "      <td>D</td>\n",
       "      <td>11</td>\n",
       "      <td>Buffer_P3</td>\n",
       "      <td>exp</td>\n",
       "    </tr>\n",
       "    <tr>\n",
       "      <th>84</th>\n",
       "      <td>E</td>\n",
       "      <td>11</td>\n",
       "      <td>Buffer_P3</td>\n",
       "      <td>exp</td>\n",
       "    </tr>\n",
       "    <tr>\n",
       "      <th>85</th>\n",
       "      <td>F</td>\n",
       "      <td>11</td>\n",
       "      <td>Buffer_P3</td>\n",
       "      <td>exp</td>\n",
       "    </tr>\n",
       "    <tr>\n",
       "      <th>86</th>\n",
       "      <td>G</td>\n",
       "      <td>11</td>\n",
       "      <td>Buffer_P3</td>\n",
       "      <td>exp</td>\n",
       "    </tr>\n",
       "    <tr>\n",
       "      <th>87</th>\n",
       "      <td>H</td>\n",
       "      <td>11</td>\n",
       "      <td>Buffer_P3</td>\n",
       "      <td>exp</td>\n",
       "    </tr>\n",
       "    <tr>\n",
       "      <th>88</th>\n",
       "      <td>A</td>\n",
       "      <td>12</td>\n",
       "      <td>Buffer_P3</td>\n",
       "      <td>exp</td>\n",
       "    </tr>\n",
       "    <tr>\n",
       "      <th>89</th>\n",
       "      <td>B</td>\n",
       "      <td>12</td>\n",
       "      <td>Buffer_P3</td>\n",
       "      <td>exp</td>\n",
       "    </tr>\n",
       "    <tr>\n",
       "      <th>90</th>\n",
       "      <td>C</td>\n",
       "      <td>12</td>\n",
       "      <td>Buffer_P3</td>\n",
       "      <td>exp</td>\n",
       "    </tr>\n",
       "    <tr>\n",
       "      <th>91</th>\n",
       "      <td>D</td>\n",
       "      <td>12</td>\n",
       "      <td>Buffer_P3</td>\n",
       "      <td>exp</td>\n",
       "    </tr>\n",
       "    <tr>\n",
       "      <th>92</th>\n",
       "      <td>E</td>\n",
       "      <td>12</td>\n",
       "      <td>Buffer_P3</td>\n",
       "      <td>exp</td>\n",
       "    </tr>\n",
       "    <tr>\n",
       "      <th>93</th>\n",
       "      <td>F</td>\n",
       "      <td>12</td>\n",
       "      <td>Buffer_P3</td>\n",
       "      <td>exp</td>\n",
       "    </tr>\n",
       "    <tr>\n",
       "      <th>94</th>\n",
       "      <td>G</td>\n",
       "      <td>12</td>\n",
       "      <td>Buffer_P3</td>\n",
       "      <td>exp</td>\n",
       "    </tr>\n",
       "    <tr>\n",
       "      <th>95</th>\n",
       "      <td>H</td>\n",
       "      <td>12</td>\n",
       "      <td>Buffer_P3</td>\n",
       "      <td>cntrl</td>\n",
       "    </tr>\n",
       "  </tbody>\n",
       "</table>\n",
       "<p>96 rows × 4 columns</p>\n",
       "</div>"
      ],
      "text/plain": [
       "   96_well_row_letter column_num lonza_nucleofection_buffer_well_value  \\\n",
       "0                   A          1                             Buffer_P1   \n",
       "1                   B          1                             Buffer_P1   \n",
       "2                   C          1                             Buffer_P1   \n",
       "3                   D          1                             Buffer_P1   \n",
       "4                   E          1                             Buffer_P1   \n",
       "5                   F          1                             Buffer_P1   \n",
       "6                   G          1                             Buffer_P1   \n",
       "7                   H          1                             Buffer_P1   \n",
       "8                   A          2                             Buffer_P1   \n",
       "9                   B          2                             Buffer_P1   \n",
       "10                  C          2                             Buffer_P1   \n",
       "11                  D          2                             Buffer_P1   \n",
       "12                  E          2                             Buffer_P1   \n",
       "13                  F          2                             Buffer_P1   \n",
       "14                  G          2                             Buffer_P1   \n",
       "15                  H          2                             Buffer_P1   \n",
       "16                  A          3                             Buffer_P1   \n",
       "17                  B          3                             Buffer_P1   \n",
       "18                  C          3                             Buffer_P1   \n",
       "19                  D          3                             Buffer_P1   \n",
       "20                  E          3                             Buffer_P1   \n",
       "21                  F          3                             Buffer_P1   \n",
       "22                  G          3                             Buffer_P1   \n",
       "23                  H          3                             Buffer_P1   \n",
       "24                  A          4                             Buffer_P1   \n",
       "25                  B          4                             Buffer_P1   \n",
       "26                  C          4                             Buffer_P1   \n",
       "27                  D          4                             Buffer_P1   \n",
       "28                  E          4                             Buffer_P1   \n",
       "29                  F          4                             Buffer_P1   \n",
       "..                ...        ...                                   ...   \n",
       "66                  C          9                             Buffer_P3   \n",
       "67                  D          9                             Buffer_P3   \n",
       "68                  E          9                             Buffer_P3   \n",
       "69                  F          9                             Buffer_P3   \n",
       "70                  G          9                             Buffer_P3   \n",
       "71                  H          9                             Buffer_P3   \n",
       "72                  A         10                             Buffer_P3   \n",
       "73                  B         10                             Buffer_P3   \n",
       "74                  C         10                             Buffer_P3   \n",
       "75                  D         10                             Buffer_P3   \n",
       "76                  E         10                             Buffer_P3   \n",
       "77                  F         10                             Buffer_P3   \n",
       "78                  G         10                             Buffer_P3   \n",
       "79                  H         10                             Buffer_P3   \n",
       "80                  A         11                             Buffer_P3   \n",
       "81                  B         11                             Buffer_P3   \n",
       "82                  C         11                             Buffer_P3   \n",
       "83                  D         11                             Buffer_P3   \n",
       "84                  E         11                             Buffer_P3   \n",
       "85                  F         11                             Buffer_P3   \n",
       "86                  G         11                             Buffer_P3   \n",
       "87                  H         11                             Buffer_P3   \n",
       "88                  A         12                             Buffer_P3   \n",
       "89                  B         12                             Buffer_P3   \n",
       "90                  C         12                             Buffer_P3   \n",
       "91                  D         12                             Buffer_P3   \n",
       "92                  E         12                             Buffer_P3   \n",
       "93                  F         12                             Buffer_P3   \n",
       "94                  G         12                             Buffer_P3   \n",
       "95                  H         12                             Buffer_P3   \n",
       "\n",
       "   experimental_or_control_well_well_value  \n",
       "0                                      exp  \n",
       "1                                      exp  \n",
       "2                                      exp  \n",
       "3                                      exp  \n",
       "4                                      exp  \n",
       "5                                      exp  \n",
       "6                                      exp  \n",
       "7                                      exp  \n",
       "8                                      exp  \n",
       "9                                      exp  \n",
       "10                                     exp  \n",
       "11                                     exp  \n",
       "12                                     exp  \n",
       "13                                     exp  \n",
       "14                                     exp  \n",
       "15                                     exp  \n",
       "16                                     exp  \n",
       "17                                     exp  \n",
       "18                                     exp  \n",
       "19                                     exp  \n",
       "20                                     exp  \n",
       "21                                     exp  \n",
       "22                                     exp  \n",
       "23                                     exp  \n",
       "24                                     exp  \n",
       "25                                     exp  \n",
       "26                                     exp  \n",
       "27                                     exp  \n",
       "28                                     exp  \n",
       "29                                     exp  \n",
       "..                                     ...  \n",
       "66                                     exp  \n",
       "67                                     exp  \n",
       "68                                     exp  \n",
       "69                                     exp  \n",
       "70                                     exp  \n",
       "71                                     exp  \n",
       "72                                     exp  \n",
       "73                                     exp  \n",
       "74                                     exp  \n",
       "75                                     exp  \n",
       "76                                     exp  \n",
       "77                                     exp  \n",
       "78                                     exp  \n",
       "79                                     exp  \n",
       "80                                     exp  \n",
       "81                                     exp  \n",
       "82                                     exp  \n",
       "83                                     exp  \n",
       "84                                     exp  \n",
       "85                                     exp  \n",
       "86                                     exp  \n",
       "87                                     exp  \n",
       "88                                     exp  \n",
       "89                                     exp  \n",
       "90                                     exp  \n",
       "91                                     exp  \n",
       "92                                     exp  \n",
       "93                                     exp  \n",
       "94                                     exp  \n",
       "95                                   cntrl  \n",
       "\n",
       "[96 rows x 4 columns]"
      ]
     },
     "execution_count": 48,
     "metadata": {},
     "output_type": "execute_result"
    }
   ],
   "source": [
    "merged_data_renamed=merged_data.rename(columns={\"Unnamed: 0\":\"96_well_row_letter\"})\n",
    "print(merged_data_renamed.shape)\n",
    "print(merged_data_renamed.head())\n",
    "merged_data_renamed"
   ]
  },
  {
   "cell_type": "code",
   "execution_count": 58,
   "metadata": {},
   "outputs": [
    {
     "name": "stdout",
     "output_type": "stream",
     "text": [
      "(96, 4)\n",
      "   Unnamed: 0 column_num lonza_nucleofection_buffer_well_value  \\\n",
      "0           A          1                             Buffer_P1   \n",
      "1           B          1                             Buffer_P1   \n",
      "2           C          1                             Buffer_P1   \n",
      "3           D          1                             Buffer_P1   \n",
      "4           E          1                             Buffer_P1   \n",
      "5           F          1                             Buffer_P1   \n",
      "6           G          1                             Buffer_P1   \n",
      "7           H          1                             Buffer_P1   \n",
      "8           A          2                             Buffer_P1   \n",
      "9           B          2                             Buffer_P1   \n",
      "10          C          2                             Buffer_P1   \n",
      "11          D          2                             Buffer_P1   \n",
      "12          E          2                             Buffer_P1   \n",
      "13          F          2                             Buffer_P1   \n",
      "14          G          2                             Buffer_P1   \n",
      "15          H          2                             Buffer_P1   \n",
      "16          A          3                             Buffer_P1   \n",
      "17          B          3                             Buffer_P1   \n",
      "18          C          3                             Buffer_P1   \n",
      "19          D          3                             Buffer_P1   \n",
      "20          E          3                             Buffer_P1   \n",
      "21          F          3                             Buffer_P1   \n",
      "22          G          3                             Buffer_P1   \n",
      "23          H          3                             Buffer_P1   \n",
      "24          A          4                             Buffer_P1   \n",
      "25          B          4                             Buffer_P1   \n",
      "26          C          4                             Buffer_P1   \n",
      "27          D          4                             Buffer_P1   \n",
      "28          E          4                             Buffer_P1   \n",
      "29          F          4                             Buffer_P1   \n",
      "..        ...        ...                                   ...   \n",
      "66          C          9                             Buffer_P3   \n",
      "67          D          9                             Buffer_P3   \n",
      "68          E          9                             Buffer_P3   \n",
      "69          F          9                             Buffer_P3   \n",
      "70          G          9                             Buffer_P3   \n",
      "71          H          9                             Buffer_P3   \n",
      "72          A         10                             Buffer_P3   \n",
      "73          B         10                             Buffer_P3   \n",
      "74          C         10                             Buffer_P3   \n",
      "75          D         10                             Buffer_P3   \n",
      "76          E         10                             Buffer_P3   \n",
      "77          F         10                             Buffer_P3   \n",
      "78          G         10                             Buffer_P3   \n",
      "79          H         10                             Buffer_P3   \n",
      "80          A         11                             Buffer_P3   \n",
      "81          B         11                             Buffer_P3   \n",
      "82          C         11                             Buffer_P3   \n",
      "83          D         11                             Buffer_P3   \n",
      "84          E         11                             Buffer_P3   \n",
      "85          F         11                             Buffer_P3   \n",
      "86          G         11                             Buffer_P3   \n",
      "87          H         11                             Buffer_P3   \n",
      "88          A         12                             Buffer_P3   \n",
      "89          B         12                             Buffer_P3   \n",
      "90          C         12                             Buffer_P3   \n",
      "91          D         12                             Buffer_P3   \n",
      "92          E         12                             Buffer_P3   \n",
      "93          F         12                             Buffer_P3   \n",
      "94          G         12                             Buffer_P3   \n",
      "95          H         12                             Buffer_P3   \n",
      "\n",
      "   experimental_or_control_well_well_value  \n",
      "0                                      exp  \n",
      "1                                      exp  \n",
      "2                                      exp  \n",
      "3                                      exp  \n",
      "4                                      exp  \n",
      "5                                      exp  \n",
      "6                                      exp  \n",
      "7                                      exp  \n",
      "8                                      exp  \n",
      "9                                      exp  \n",
      "10                                     exp  \n",
      "11                                     exp  \n",
      "12                                     exp  \n",
      "13                                     exp  \n",
      "14                                     exp  \n",
      "15                                     exp  \n",
      "16                                     exp  \n",
      "17                                     exp  \n",
      "18                                     exp  \n",
      "19                                     exp  \n",
      "20                                     exp  \n",
      "21                                     exp  \n",
      "22                                     exp  \n",
      "23                                     exp  \n",
      "24                                     exp  \n",
      "25                                     exp  \n",
      "26                                     exp  \n",
      "27                                     exp  \n",
      "28                                     exp  \n",
      "29                                     exp  \n",
      "..                                     ...  \n",
      "66                                     exp  \n",
      "67                                     exp  \n",
      "68                                     exp  \n",
      "69                                     exp  \n",
      "70                                     exp  \n",
      "71                                     exp  \n",
      "72                                     exp  \n",
      "73                                     exp  \n",
      "74                                     exp  \n",
      "75                                     exp  \n",
      "76                                     exp  \n",
      "77                                     exp  \n",
      "78                                     exp  \n",
      "79                                     exp  \n",
      "80                                     exp  \n",
      "81                                     exp  \n",
      "82                                     exp  \n",
      "83                                     exp  \n",
      "84                                     exp  \n",
      "85                                     exp  \n",
      "86                                     exp  \n",
      "87                                     exp  \n",
      "88                                     exp  \n",
      "89                                     exp  \n",
      "90                                     exp  \n",
      "91                                     exp  \n",
      "92                                     exp  \n",
      "93                                     exp  \n",
      "94                                     exp  \n",
      "95                                   cntrl  \n",
      "\n",
      "[96 rows x 4 columns]\n"
     ]
    }
   ],
   "source": [
    "merged_data=lonza_nucleofection_buffer_96w_tidy.merge(experimental_or_control_well_tidy, left_on=[\"Unnamed: 0\", \"column_num\"], right_on=[\"Unnamed: 0\", \"column_num\"])\n",
    "print(merged_data.shape)\n",
    "print(merged_data)"
   ]
  },
  {
   "cell_type": "code",
   "execution_count": null,
   "metadata": {
    "collapsed": true
   },
   "outputs": [],
   "source": [
    "## Merge on just one column\n",
    "if you merge just on the Unnamed column it does something wierd."
   ]
  },
  {
   "cell_type": "code",
   "execution_count": 59,
   "metadata": {},
   "outputs": [
    {
     "name": "stdout",
     "output_type": "stream",
     "text": [
      "(1152, 5)\n",
      "     Unnamed: 0 column_num_x lonza_nucleofection_buffer_well_value  \\\n",
      "0             A            1                             Buffer_P1   \n",
      "1             A            1                             Buffer_P1   \n",
      "2             A            1                             Buffer_P1   \n",
      "3             A            1                             Buffer_P1   \n",
      "4             A            1                             Buffer_P1   \n",
      "5             A            1                             Buffer_P1   \n",
      "6             A            1                             Buffer_P1   \n",
      "7             A            1                             Buffer_P1   \n",
      "8             A            1                             Buffer_P1   \n",
      "9             A            1                             Buffer_P1   \n",
      "10            A            1                             Buffer_P1   \n",
      "11            A            1                             Buffer_P1   \n",
      "12            A            2                             Buffer_P1   \n",
      "13            A            2                             Buffer_P1   \n",
      "14            A            2                             Buffer_P1   \n",
      "15            A            2                             Buffer_P1   \n",
      "16            A            2                             Buffer_P1   \n",
      "17            A            2                             Buffer_P1   \n",
      "18            A            2                             Buffer_P1   \n",
      "19            A            2                             Buffer_P1   \n",
      "20            A            2                             Buffer_P1   \n",
      "21            A            2                             Buffer_P1   \n",
      "22            A            2                             Buffer_P1   \n",
      "23            A            2                             Buffer_P1   \n",
      "24            A            3                             Buffer_P1   \n",
      "25            A            3                             Buffer_P1   \n",
      "26            A            3                             Buffer_P1   \n",
      "27            A            3                             Buffer_P1   \n",
      "28            A            3                             Buffer_P1   \n",
      "29            A            3                             Buffer_P1   \n",
      "...         ...          ...                                   ...   \n",
      "1122          H           10                             Buffer_P3   \n",
      "1123          H           10                             Buffer_P3   \n",
      "1124          H           10                             Buffer_P3   \n",
      "1125          H           10                             Buffer_P3   \n",
      "1126          H           10                             Buffer_P3   \n",
      "1127          H           10                             Buffer_P3   \n",
      "1128          H           11                             Buffer_P3   \n",
      "1129          H           11                             Buffer_P3   \n",
      "1130          H           11                             Buffer_P3   \n",
      "1131          H           11                             Buffer_P3   \n",
      "1132          H           11                             Buffer_P3   \n",
      "1133          H           11                             Buffer_P3   \n",
      "1134          H           11                             Buffer_P3   \n",
      "1135          H           11                             Buffer_P3   \n",
      "1136          H           11                             Buffer_P3   \n",
      "1137          H           11                             Buffer_P3   \n",
      "1138          H           11                             Buffer_P3   \n",
      "1139          H           11                             Buffer_P3   \n",
      "1140          H           12                             Buffer_P3   \n",
      "1141          H           12                             Buffer_P3   \n",
      "1142          H           12                             Buffer_P3   \n",
      "1143          H           12                             Buffer_P3   \n",
      "1144          H           12                             Buffer_P3   \n",
      "1145          H           12                             Buffer_P3   \n",
      "1146          H           12                             Buffer_P3   \n",
      "1147          H           12                             Buffer_P3   \n",
      "1148          H           12                             Buffer_P3   \n",
      "1149          H           12                             Buffer_P3   \n",
      "1150          H           12                             Buffer_P3   \n",
      "1151          H           12                             Buffer_P3   \n",
      "\n",
      "     column_num_y experimental_or_control_well_well_value  \n",
      "0               1                                     exp  \n",
      "1               2                                     exp  \n",
      "2               3                                     exp  \n",
      "3               4                                     exp  \n",
      "4               5                                     exp  \n",
      "5               6                                     exp  \n",
      "6               7                                     exp  \n",
      "7               8                                     exp  \n",
      "8               9                                     exp  \n",
      "9              10                                     exp  \n",
      "10             11                                     exp  \n",
      "11             12                                     exp  \n",
      "12              1                                     exp  \n",
      "13              2                                     exp  \n",
      "14              3                                     exp  \n",
      "15              4                                     exp  \n",
      "16              5                                     exp  \n",
      "17              6                                     exp  \n",
      "18              7                                     exp  \n",
      "19              8                                     exp  \n",
      "20              9                                     exp  \n",
      "21             10                                     exp  \n",
      "22             11                                     exp  \n",
      "23             12                                     exp  \n",
      "24              1                                     exp  \n",
      "25              2                                     exp  \n",
      "26              3                                     exp  \n",
      "27              4                                     exp  \n",
      "28              5                                     exp  \n",
      "29              6                                     exp  \n",
      "...           ...                                     ...  \n",
      "1122            7                                     exp  \n",
      "1123            8                                   cntrl  \n",
      "1124            9                                     exp  \n",
      "1125           10                                     exp  \n",
      "1126           11                                     exp  \n",
      "1127           12                                   cntrl  \n",
      "1128            1                                     exp  \n",
      "1129            2                                     exp  \n",
      "1130            3                                     exp  \n",
      "1131            4                                   cntrl  \n",
      "1132            5                                     exp  \n",
      "1133            6                                     exp  \n",
      "1134            7                                     exp  \n",
      "1135            8                                   cntrl  \n",
      "1136            9                                     exp  \n",
      "1137           10                                     exp  \n",
      "1138           11                                     exp  \n",
      "1139           12                                   cntrl  \n",
      "1140            1                                     exp  \n",
      "1141            2                                     exp  \n",
      "1142            3                                     exp  \n",
      "1143            4                                   cntrl  \n",
      "1144            5                                     exp  \n",
      "1145            6                                     exp  \n",
      "1146            7                                     exp  \n",
      "1147            8                                   cntrl  \n",
      "1148            9                                     exp  \n",
      "1149           10                                     exp  \n",
      "1150           11                                     exp  \n",
      "1151           12                                   cntrl  \n",
      "\n",
      "[1152 rows x 5 columns]\n"
     ]
    }
   ],
   "source": [
    "merged_data=lonza_nucleofection_buffer_96w_tidy.merge(experimental_or_control_well_tidy, left_on=[\"Unnamed: 0\"], right_on=[\"Unnamed: 0\"])\n",
    "print(merged_data.shape)\n",
    "print(merged_data)"
   ]
  },
  {
   "cell_type": "code",
   "execution_count": null,
   "metadata": {
    "collapsed": true
   },
   "outputs": [],
   "source": []
  },
  {
   "cell_type": "code",
   "execution_count": null,
   "metadata": {
    "collapsed": true
   },
   "outputs": [],
   "source": []
  },
  {
   "cell_type": "code",
   "execution_count": null,
   "metadata": {
    "collapsed": true
   },
   "outputs": [],
   "source": []
  },
  {
   "cell_type": "code",
   "execution_count": null,
   "metadata": {
    "collapsed": true
   },
   "outputs": [],
   "source": []
  },
  {
   "cell_type": "code",
   "execution_count": null,
   "metadata": {
    "collapsed": true
   },
   "outputs": [],
   "source": []
  },
  {
   "cell_type": "code",
   "execution_count": null,
   "metadata": {
    "collapsed": true
   },
   "outputs": [],
   "source": []
  },
  {
   "cell_type": "code",
   "execution_count": null,
   "metadata": {
    "collapsed": true
   },
   "outputs": [],
   "source": []
  },
  {
   "cell_type": "code",
   "execution_count": null,
   "metadata": {
    "collapsed": true
   },
   "outputs": [],
   "source": []
  },
  {
   "cell_type": "code",
   "execution_count": null,
   "metadata": {
    "collapsed": true
   },
   "outputs": [],
   "source": []
  },
  {
   "cell_type": "code",
   "execution_count": null,
   "metadata": {
    "collapsed": true
   },
   "outputs": [],
   "source": []
  },
  {
   "cell_type": "code",
   "execution_count": null,
   "metadata": {
    "collapsed": true
   },
   "outputs": [],
   "source": [
    "wells_tidy['column_number'] = wells_tidy['Empty96ColNum'].astype(int)\n",
    "print(wells_tidy.shape)\n",
    "wells_tidy.head()"
   ]
  },
  {
   "cell_type": "markdown",
   "metadata": {},
   "source": [
    "Wrong way! We did numbers, lettesr for `wells_tidy` and letters, numbers for `buffer_tidy`"
   ]
  },
  {
   "cell_type": "code",
   "execution_count": null,
   "metadata": {
    "collapsed": true
   },
   "outputs": [],
   "source": [
    "wells_tidy.merge(buffer_tidy, left_on=[ \"Empty96ColNum\", 'Unnamed: 0',], \n",
    "                 right_on=['row_letter', 'column_number'])"
   ]
  },
  {
   "cell_type": "code",
   "execution_count": null,
   "metadata": {
    "collapsed": true
   },
   "outputs": [],
   "source": [
    "wells_tidy.merge(buffer_tidy, left_on=['Unnamed: 0', \"Empty96ColNum\"], \n",
    "                 right_on=['row_letter', 'column_number'])"
   ]
  },
  {
   "cell_type": "code",
   "execution_count": null,
   "metadata": {
    "collapsed": true
   },
   "outputs": [],
   "source": [
    "wells_tidy.merge(buffer_tidy, left_on=['Unnamed: 0', \"column_number\"], \n",
    "                 right_on=['row_letter', 'column_number'])"
   ]
  },
  {
   "cell_type": "code",
   "execution_count": null,
   "metadata": {
    "collapsed": true
   },
   "outputs": [],
   "source": [
    "Empty96W_ColumnList.columns"
   ]
  },
  {
   "cell_type": "code",
   "execution_count": null,
   "metadata": {
    "collapsed": true
   },
   "outputs": [],
   "source": [
    "type(Empty96W_ColumnList)"
   ]
  },
  {
   "cell_type": "code",
   "execution_count": null,
   "metadata": {
    "collapsed": true
   },
   "outputs": [],
   "source": [
    "SelectValues_Empty96WellID=Empty96W_ColumnList.iloc[:,1] # select needed collumn "
   ]
  },
  {
   "cell_type": "code",
   "execution_count": null,
   "metadata": {
    "collapsed": true
   },
   "outputs": [],
   "source": [
    "SelectValues_Empty96WellID"
   ]
  },
  {
   "cell_type": "code",
   "execution_count": null,
   "metadata": {
    "collapsed": true
   },
   "outputs": [],
   "source": [
    "SelectValues_Empty96WellID_df=SelectValues_Empty96WellID.to_frame() # turn series into df"
   ]
  },
  {
   "cell_type": "code",
   "execution_count": null,
   "metadata": {
    "collapsed": true
   },
   "outputs": [],
   "source": [
    "SelectValues_Empty96WellID_df"
   ]
  },
  {
   "cell_type": "code",
   "execution_count": null,
   "metadata": {
    "collapsed": true
   },
   "outputs": [],
   "source": [
    "type(SelectValues_Empty96WellID)"
   ]
  },
  {
   "cell_type": "code",
   "execution_count": null,
   "metadata": {
    "collapsed": true
   },
   "outputs": [],
   "source": [
    "Empty96W_ColumnList2=pd.melt(empty_96W, var_name=\"Empty96ColNum2\",value_name=\"Empty96WellID2\")"
   ]
  },
  {
   "cell_type": "code",
   "execution_count": null,
   "metadata": {
    "collapsed": true
   },
   "outputs": [],
   "source": [
    "SelectValues_Empty96WellID2=Empty96W_ColumnList2.iloc[:,1]"
   ]
  },
  {
   "cell_type": "code",
   "execution_count": null,
   "metadata": {
    "collapsed": true
   },
   "outputs": [],
   "source": [
    "SelectValues_Empty96WellID2"
   ]
  },
  {
   "cell_type": "code",
   "execution_count": null,
   "metadata": {
    "collapsed": true
   },
   "outputs": [],
   "source": [
    "SelectValues_Empty96WellID2_df=SelectValues_Empty96WellID2.to_frame()"
   ]
  },
  {
   "cell_type": "code",
   "execution_count": null,
   "metadata": {
    "collapsed": true
   },
   "outputs": [],
   "source": [
    "SelectValues_Empty96WellID2_df"
   ]
  },
  {
   "cell_type": "code",
   "execution_count": null,
   "metadata": {
    "collapsed": true
   },
   "outputs": [],
   "source": [
    "pd.concat([SelectValues_Empty96WellID_df,SelectValues_Empty96WellID2_df], axis=1)"
   ]
  },
  {
   "cell_type": "code",
   "execution_count": null,
   "metadata": {
    "collapsed": true
   },
   "outputs": [],
   "source": []
  }
 ],
 "metadata": {
  "kernelspec": {
   "display_name": "Python 3",
   "language": "python",
   "name": "python3"
  },
  "language_info": {
   "codemirror_mode": {
    "name": "ipython",
    "version": 3
   },
   "file_extension": ".py",
   "mimetype": "text/x-python",
   "name": "python",
   "nbconvert_exporter": "python",
   "pygments_lexer": "ipython3",
   "version": "3.6.3"
  }
 },
 "nbformat": 4,
 "nbformat_minor": 2
}
